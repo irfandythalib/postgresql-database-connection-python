{
 "cells": [
  {
   "cell_type": "code",
   "execution_count": 1,
   "metadata": {
    "ExecuteTime": {
     "end_time": "2022-06-13T12:00:42.580064Z",
     "start_time": "2022-06-13T12:00:41.591792Z"
    }
   },
   "outputs": [],
   "source": [
    "import psycopg2\n",
    "import csv"
   ]
  },
  {
   "cell_type": "code",
   "execution_count": 2,
   "metadata": {
    "ExecuteTime": {
     "end_time": "2022-06-13T12:00:43.095108Z",
     "start_time": "2022-06-13T12:00:42.580064Z"
    }
   },
   "outputs": [],
   "source": [
    "# Establishing the connection\n",
    "conn = psycopg2.connect(\n",
    "    database=\"database_name\",\n",
    "    user='postgres',\n",
    "    password='12345678',\n",
    "    host='localhost',\n",
    "    port='5432'\n",
    ")\n",
    "# Connection\n",
    "cursor = conn.cursor()"
   ]
  },
  {
   "cell_type": "code",
   "execution_count": 2,
   "metadata": {
    "ExecuteTime": {
     "end_time": "2022-06-13T09:35:28.412800Z",
     "start_time": "2022-06-13T09:35:28.397174Z"
    }
   },
   "outputs": [],
   "source": [
    "postgreSQL_select_Query = \"select * from store where column_name=%s\"\n",
    "cursor.execute(postgreSQL_select_Query, (data_refers_to_s,))\n",
    "records = cursor.fetchall()\n",
    "\n",
    "#records returns array/list from the query "
   ]
  }
 ],
 "metadata": {
  "kernelspec": {
   "display_name": "Python 3",
   "language": "python",
   "name": "python3"
  },
  "language_info": {
   "codemirror_mode": {
    "name": "ipython",
    "version": 3
   },
   "file_extension": ".py",
   "mimetype": "text/x-python",
   "name": "python",
   "nbconvert_exporter": "python",
   "pygments_lexer": "ipython3",
   "version": "3.7.7"
  }
 },
 "nbformat": 4,
 "nbformat_minor": 4
}
